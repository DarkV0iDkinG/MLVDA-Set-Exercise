{
 "cells": [
  {
   "cell_type": "code",
   "execution_count": 5,
   "id": "4d53f68e-bd16-46f6-96f5-082727e136ff",
   "metadata": {},
   "outputs": [
    {
     "name": "stdout",
     "output_type": "stream",
     "text": [
      "['company', 'rating', 'location', 'positionName', 'description', 'salary', 'url', 'jobType/0', 'jobType/1', 'jobType/2', 'jobType/3', 'searchInput/country', 'searchInput/position', 'externalApplyLink', 'salary_num', 'state', 'is_remote', 'is_senior', '/0', '/1', '/2', '/3', 'is_CA_NY', 'high_salary']\n"
     ]
    }
   ],
   "source": [
    "import pandas as pd\n",
    "import numpy as np\n",
    "import re\n",
    "df = pd.read_csv('jobs_dataset_cleaned.csv')\n",
    "print(df.columns.tolist())"
   ]
  },
  {
   "cell_type": "code",
   "execution_count": 4,
   "id": "e2c15b64-716a-4750-b1af-a01a76757da8",
   "metadata": {},
   "outputs": [],
   "source": [
    "# 1. Basic Cleaning\n",
    "df = df.drop_duplicates()\n",
    "df = df.rename(columns=lambda x: x.strip())\n",
    "df['rating'] = df['rating'].fillna(0)"
   ]
  },
  {
   "cell_type": "code",
   "execution_count": 6,
   "id": "10ffe6a4-b091-46f7-a79a-22f1fba0dd53",
   "metadata": {},
   "outputs": [],
   "source": [
    "# 2. Clean Salary Field\n",
    "def clean_salary(s):\n",
    "    if pd.isna(s):\n",
    "        return np.nan\n",
    "    s = str(s).replace('$', '').replace(',', '').lower()\n",
    "    if 'hour' in s:\n",
    "        try:\n",
    "            hourly = float(re.findall(r'\\d+\\.?\\d*', s)[0])\n",
    "            return hourly * 40 * 52\n",
    "        except:\n",
    "            return np.nan\n",
    "    numbers = re.findall(r'\\d+\\.?\\d*', s)\n",
    "    if len(numbers) == 2:\n",
    "        return (float(numbers[0]) + float(numbers[1])) / 2\n",
    "    elif len(numbers) == 1:\n",
    "        return float(numbers[0])\n",
    "    else:\n",
    "        return np.nan\n",
    "\n",
    "df['salary_num'] = df['salary'].apply(clean_salary)\n"
   ]
  },
  {
   "cell_type": "code",
   "execution_count": 8,
   "id": "e31f62c6-43bb-473d-ba4c-572ceabd82ac",
   "metadata": {},
   "outputs": [],
   "source": [
    "# 3. Keep only U.S. states\n",
    "df['state'] = df['location'].apply(lambda x: str(x).split(',')[-1].strip() if pd.notna(x) else None)\n",
    "\n",
    "us_states = ['AL','AK','AZ','AR','CA','CO','CT','DE','FL','GA','HI','ID','IL','IN','IA','KS','KY','LA','ME',\n",
    "             'MD','MA','MI','MN','MS','MO','MT','NE','NV','NH','NJ','NM','NY','NC','ND','OH','OK','OR','PA',\n",
    "             'RI','SC','SD','TN','TX','UT','VT','VA','WA','WV','WI','WY']\n",
    "\n",
    "df = df[df['state'].isin(us_states)]"
   ]
  },
  {
   "cell_type": "code",
   "execution_count": 9,
   "id": "f79ebc1d-e01c-46fa-b694-2e2c2db11319",
   "metadata": {},
   "outputs": [],
   "source": [
    "# 4. Fix Job Type Columns\n",
    "jobtype_cols = [c for c in df.columns if 'jobtype' in c.lower()]\n",
    "\n",
    "def detect_job_type(row):\n",
    "    text = ' '.join([str(row[c]) for c in jobtype_cols if pd.notna(row[c])]).lower()\n",
    "    if 'full' in text:\n",
    "        return 'Full-time'\n",
    "    elif 'part' in text:\n",
    "        return 'Part-time'\n",
    "    elif 'contract' in text:\n",
    "        return 'Contract'\n",
    "    elif 'intern' in text:\n",
    "        return 'Internship'\n",
    "    elif 'temp' in text:\n",
    "        return 'Temporary'\n",
    "    else:\n",
    "        return 'Unknown'\n",
    "\n",
    "df['job_type'] = df.apply(detect_job_type, axis=1)"
   ]
  },
  {
   "cell_type": "code",
   "execution_count": 11,
   "id": "2eeb8610-d4c9-4c51-a66a-3d2d8571a02e",
   "metadata": {},
   "outputs": [],
   "source": [
    "# 5. Add Feature Columns\n",
    "df['is_senior'] = df['positionName'].apply(lambda x: 1 if isinstance(x, str) and any(w in x.lower() for w in ['senior', 'lead', 'manager']) else 0)\n",
    "df['is_remote'] = df['location'].apply(lambda x: 1 if isinstance(x, str) and 'remote' in x.lower() else 0)\n",
    "df['is_CA_NY'] = df['state'].apply(lambda s: 1 if s in ['CA', 'NY'] else 0)"
   ]
  },
  {
   "cell_type": "code",
   "execution_count": 12,
   "id": "49b31c45-684f-45b5-a69d-29a52858f151",
   "metadata": {},
   "outputs": [],
   "source": [
    "# 6. Final Columns Selection\n",
    "final_cols = ['company', 'positionName', 'rating', 'location', 'state',\n",
    "              'salary', 'salary_num', 'job_type', 'is_senior', 'is_remote', 'is_CA_NY']\n",
    "df_final = df[final_cols]"
   ]
  },
  {
   "cell_type": "code",
   "execution_count": 13,
   "id": "00d0ae79-7dad-461f-853d-b75380f5f2ae",
   "metadata": {},
   "outputs": [
    {
     "name": "stdout",
     "output_type": "stream",
     "text": [
      "✅ Clean dataset saved as 'jobs_dataset_final.csv' with shape: (240, 11)\n"
     ]
    }
   ],
   "source": [
    "# 7. Save the Cleaned Dataset\n",
    "df_final.to_csv('jobs_dataset_final.csv', index=False)\n",
    "print(\"✅ Clean dataset saved as 'jobs_dataset_final.csv' with shape:\", df_final.shape)"
   ]
  },
  {
   "cell_type": "code",
   "execution_count": 14,
   "id": "1859564b-df70-4409-b501-28b8bb63addc",
   "metadata": {},
   "outputs": [],
   "source": [
    "# 8. Machine Learning Model Implementation\n",
    "from sklearn.model_selection import train_test_split\n",
    "from sklearn.preprocessing import StandardScaler\n",
    "from sklearn.linear_model import LogisticRegression\n",
    "from sklearn.ensemble import RandomForestClassifier\n",
    "from sklearn.metrics import classification_report, confusion_matrix, accuracy_score\n",
    "import seaborn as sns\n",
    "import matplotlib.pyplot as plt"
   ]
  },
  {
   "cell_type": "code",
   "execution_count": 15,
   "id": "6e5e9e01-9546-43bb-959d-079a078a498f",
   "metadata": {},
   "outputs": [],
   "source": [
    "# Prepare Data\n",
    "df_ml = df_final.copy()"
   ]
  },
  {
   "cell_type": "code",
   "execution_count": 16,
   "id": "4e5e3a13-5c59-47c5-bad7-fe2098834828",
   "metadata": {},
   "outputs": [],
   "source": [
    "# Remove rows with missing salary\n",
    "df_ml = df_ml.dropna(subset=['salary_num'])"
   ]
  },
  {
   "cell_type": "code",
   "execution_count": 17,
   "id": "5b3637d5-6bb4-4aac-856c-7d86d8f70cdd",
   "metadata": {},
   "outputs": [],
   "source": [
    "# Define target (High Salary = 1 if salary > median)\n",
    "median_salary = df_ml['salary_num'].median()\n",
    "df_ml['high_salary'] = (df_ml['salary_num'] > median_salary).astype(int)"
   ]
  },
  {
   "cell_type": "code",
   "execution_count": 18,
   "id": "0a7ee2b4-9997-4b3a-a3ce-48737d79a163",
   "metadata": {},
   "outputs": [],
   "source": [
    "# Select features\n",
    "X = df_ml[['rating', 'is_senior', 'is_remote', 'is_CA_NY']]\n",
    "y = df_ml['high_salary']"
   ]
  },
  {
   "cell_type": "code",
   "execution_count": 19,
   "id": "c518bac0-737a-4120-a57e-6fdee9aa869a",
   "metadata": {},
   "outputs": [],
   "source": [
    "# One-hot encode job type\n",
    "X = pd.concat([X, pd.get_dummies(df_ml['job_type'], prefix='type', drop_first=True)], axis=1)"
   ]
  },
  {
   "cell_type": "code",
   "execution_count": 20,
   "id": "a6eac4ba-d5f6-4387-92f5-dc7913bf60e7",
   "metadata": {},
   "outputs": [],
   "source": [
    "# Split dataset\n",
    "X_train, X_test, y_train, y_test = train_test_split(X, y, test_size=0.2, random_state=42)"
   ]
  },
  {
   "cell_type": "code",
   "execution_count": 21,
   "id": "9e638c1b-afb0-41c8-a348-f539a67c5675",
   "metadata": {},
   "outputs": [],
   "source": [
    "# Scale numeric features\n",
    "scaler = StandardScaler()\n",
    "X_train[['rating']] = scaler.fit_transform(X_train[['rating']])\n",
    "X_test[['rating']] = scaler.transform(X_test[['rating']])"
   ]
  },
  {
   "cell_type": "code",
   "execution_count": 22,
   "id": "89b5649a-8b81-43c0-a437-73f2b0cb4835",
   "metadata": {},
   "outputs": [
    {
     "name": "stdout",
     "output_type": "stream",
     "text": [
      "=== Logistic Regression ===\n",
      "Accuracy: 64.58 %\n",
      "              precision    recall  f1-score   support\n",
      "\n",
      "           0       0.55      0.58      0.56        19\n",
      "           1       0.71      0.69      0.70        29\n",
      "\n",
      "    accuracy                           0.65        48\n",
      "   macro avg       0.63      0.63      0.63        48\n",
      "weighted avg       0.65      0.65      0.65        48\n",
      "\n"
     ]
    }
   ],
   "source": [
    "# 9. Logistic Regression Model\n",
    "log_model = LogisticRegression(max_iter=1000)\n",
    "log_model.fit(X_train, y_train)\n",
    "y_pred_log = log_model.predict(X_test)\n",
    "print(\"=== Logistic Regression ===\")\n",
    "print(\"Accuracy:\", round(accuracy_score(y_test, y_pred_log)*100, 2), \"%\")\n",
    "print(classification_report(y_test, y_pred_log))"
   ]
  },
  {
   "cell_type": "code",
   "execution_count": 23,
   "id": "29baa67c-b3cd-4f99-8542-ab2cca04763b",
   "metadata": {},
   "outputs": [
    {
     "data": {
      "image/png": "[encoded data removed]",
      "text/plain": [
       "<Figure size 500x400 with 2 Axes>"
      ]
     },
     "metadata": {},
     "output_type": "display_data"
    }
   ],
   "source": [
    "# Confusion Matrix - Logistic\n",
    "plt.figure(figsize=(5,4))\n",
    "sns.heatmap(confusion_matrix(y_test, y_pred_log), annot=True, fmt='d', cmap='Blues')\n",
    "plt.title(\"Confusion Matrix - Logistic Regression\")\n",
    "plt.xlabel(\"Predicted\")\n",
    "plt.ylabel(\"Actual\")\n",
    "plt.show()"
   ]
  },
  {
   "cell_type": "code",
   "execution_count": 24,
   "id": "7c8aeceb-add5-432b-b8d2-001fa4334519",
   "metadata": {},
   "outputs": [
    {
     "name": "stdout",
     "output_type": "stream",
     "text": [
      "\n",
      "=== Random Forest ===\n",
      "Accuracy: 56.25 %\n",
      "              precision    recall  f1-score   support\n",
      "\n",
      "           0       0.46      0.63      0.53        19\n",
      "           1       0.68      0.52      0.59        29\n",
      "\n",
      "    accuracy                           0.56        48\n",
      "   macro avg       0.57      0.57      0.56        48\n",
      "weighted avg       0.59      0.56      0.57        48\n",
      "\n"
     ]
    }
   ],
   "source": [
    "# 10. Random Forest Model\n",
    "rf_model = RandomForestClassifier(n_estimators=200, random_state=42)\n",
    "rf_model.fit(X_train, y_train)\n",
    "y_pred_rf = rf_model.predict(X_test)\n",
    "print(\"\\n=== Random Forest ===\")\n",
    "print(\"Accuracy:\", round(accuracy_score(y_test, y_pred_rf)*100, 2), \"%\")\n",
    "print(classification_report(y_test, y_pred_rf))"
   ]
  },
  {
   "cell_type": "code",
   "execution_count": 25,
   "id": "a321eb50-c31f-49f1-8d61-41cfdc687c68",
   "metadata": {},
   "outputs": [
    {
     "data": {
      "image/png": "[encoded data removed]",
      "text/plain": [
       "<Figure size 500x400 with 2 Axes>"
      ]
     },
     "metadata": {},
     "output_type": "display_data"
    }
   ],
   "source": [
    "# Confusion Matrix - Random Forest\n",
    "plt.figure(figsize=(5,4))\n",
    "sns.heatmap(confusion_matrix(y_test, y_pred_rf), annot=True, fmt='d', cmap='Greens')\n",
    "plt.title(\"Confusion Matrix - Random Forest\")\n",
    "plt.xlabel(\"Predicted\")\n",
    "plt.ylabel(\"Actual\")\n",
    "plt.show()"
   ]
  },
  {
   "cell_type": "code",
   "execution_count": 26,
   "id": "89171b23-9432-4b9d-b7c3-1d99bd21cea8",
   "metadata": {},
   "outputs": [
    {
     "data": {
      "image/png": "[encoded data removed]",
      "text/plain": [
       "<Figure size 700x500 with 1 Axes>"
      ]
     },
     "metadata": {},
     "output_type": "display_data"
    }
   ],
   "source": [
    "# 11. Feature Importance\n",
    "importances = pd.Series(rf_model.feature_importances_, index=X.columns)\n",
    "importances.sort_values(ascending=True).plot(kind='barh', figsize=(7,5))\n",
    "plt.title(\"Feature Importance (Random Forest)\")\n",
    "plt.show()"
   ]
  },
  {
   "cell_type": "code",
   "execution_count": 27,
   "id": "ec6a46ca-5ebb-4084-b134-28564654cff3",
   "metadata": {},
   "outputs": [
    {
     "name": "stdout",
     "output_type": "stream",
     "text": [
      "\n",
      "Comparison:\n",
      "Logistic Regression Accuracy = 0.65\n",
      "Random Forest Accuracy = 0.56\n"
     ]
    }
   ],
   "source": [
    "# 12. Summary\n",
    "log_acc = accuracy_score(y_test, y_pred_log)\n",
    "rf_acc = accuracy_score(y_test, y_pred_rf)\n",
    "print(f\"\\nComparison:\\nLogistic Regression Accuracy = {log_acc:.2f}\\nRandom Forest Accuracy = {rf_acc:.2f}\")"
   ]
  },
  {
   "cell_type": "code",
   "execution_count": null,
   "id": "d987f461-35e1-4afb-b070-aa12912806f6",
   "metadata": {},
   "outputs": [],
   "source": []
  }
 ],
 "metadata": {
  "kernelspec": {
   "display_name": "Python [conda env:base] *",
   "language": "python",
   "name": "conda-base-py"
  },
  "language_info": {
   "codemirror_mode": {
    "name": "ipython",
    "version": 3
   },
   "file_extension": ".py",
   "mimetype": "text/x-python",
   "name": "python",
   "nbconvert_exporter": "python",
   "pygments_lexer": "ipython3",
   "version": "3.13.5"
  }
 },
 "nbformat": 4,
 "nbformat_minor": 5
}
